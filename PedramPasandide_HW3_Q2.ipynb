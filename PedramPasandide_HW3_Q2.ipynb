{
  "nbformat": 4,
  "nbformat_minor": 0,
  "metadata": {
    "colab": {
      "provenance": [],
      "toc_visible": true
    },
    "kernelspec": {
      "name": "python3",
      "display_name": "Python 3"
    },
    "language_info": {
      "name": "python"
    }
  },
  "cells": [
    {
      "cell_type": "code",
      "execution_count": 5,
      "metadata": {
        "id": "5zIPXEVHAS44"
      },
      "outputs": [],
      "source": [
        "import numpy as np\n",
        "import matplotlib.pyplot as plt\n",
        "\n",
        "import pandas as pd\n",
        "from sklearn.linear_model import LogisticRegression\n",
        "from patsy import bs\n",
        "from patsy import cr\n",
        "from patsy import dmatrix, build_design_matrices"
      ]
    },
    {
      "cell_type": "code",
      "source": [
        "# Load the data (open the southafrica.R with txt the link is there)\n",
        "data0 = pd.read_csv('https://hastie.su.domains/ElemStatLearn/datasets/SAheart.data', delimiter=\",\")\n",
        "data = data0.iloc[:,1:]\n",
        "data.head()"
      ],
      "metadata": {
        "colab": {
          "base_uri": "https://localhost:8080/",
          "height": 206
        },
        "id": "6imA8iG1AXuR",
        "outputId": "789f5608-274f-4a16-c643-736b5ff3ce92"
      },
      "execution_count": 6,
      "outputs": [
        {
          "output_type": "execute_result",
          "data": {
            "text/plain": [
              "   sbp  tobacco   ldl  adiposity  famhist  typea  obesity  alcohol  age  chd\n",
              "0  160    12.00  5.73      23.11  Present     49    25.30    97.20   52    1\n",
              "1  144     0.01  4.41      28.61   Absent     55    28.87     2.06   63    1\n",
              "2  118     0.08  3.48      32.28  Present     52    29.14     3.81   46    0\n",
              "3  170     7.50  6.41      38.03  Present     51    31.99    24.26   58    1\n",
              "4  134    13.60  3.50      27.78  Present     60    25.99    57.34   49    1"
            ],
            "text/html": [
              "\n",
              "  <div id=\"df-fd844b98-9840-4577-8b41-385c602fac08\">\n",
              "    <div class=\"colab-df-container\">\n",
              "      <div>\n",
              "<style scoped>\n",
              "    .dataframe tbody tr th:only-of-type {\n",
              "        vertical-align: middle;\n",
              "    }\n",
              "\n",
              "    .dataframe tbody tr th {\n",
              "        vertical-align: top;\n",
              "    }\n",
              "\n",
              "    .dataframe thead th {\n",
              "        text-align: right;\n",
              "    }\n",
              "</style>\n",
              "<table border=\"1\" class=\"dataframe\">\n",
              "  <thead>\n",
              "    <tr style=\"text-align: right;\">\n",
              "      <th></th>\n",
              "      <th>sbp</th>\n",
              "      <th>tobacco</th>\n",
              "      <th>ldl</th>\n",
              "      <th>adiposity</th>\n",
              "      <th>famhist</th>\n",
              "      <th>typea</th>\n",
              "      <th>obesity</th>\n",
              "      <th>alcohol</th>\n",
              "      <th>age</th>\n",
              "      <th>chd</th>\n",
              "    </tr>\n",
              "  </thead>\n",
              "  <tbody>\n",
              "    <tr>\n",
              "      <th>0</th>\n",
              "      <td>160</td>\n",
              "      <td>12.00</td>\n",
              "      <td>5.73</td>\n",
              "      <td>23.11</td>\n",
              "      <td>Present</td>\n",
              "      <td>49</td>\n",
              "      <td>25.30</td>\n",
              "      <td>97.20</td>\n",
              "      <td>52</td>\n",
              "      <td>1</td>\n",
              "    </tr>\n",
              "    <tr>\n",
              "      <th>1</th>\n",
              "      <td>144</td>\n",
              "      <td>0.01</td>\n",
              "      <td>4.41</td>\n",
              "      <td>28.61</td>\n",
              "      <td>Absent</td>\n",
              "      <td>55</td>\n",
              "      <td>28.87</td>\n",
              "      <td>2.06</td>\n",
              "      <td>63</td>\n",
              "      <td>1</td>\n",
              "    </tr>\n",
              "    <tr>\n",
              "      <th>2</th>\n",
              "      <td>118</td>\n",
              "      <td>0.08</td>\n",
              "      <td>3.48</td>\n",
              "      <td>32.28</td>\n",
              "      <td>Present</td>\n",
              "      <td>52</td>\n",
              "      <td>29.14</td>\n",
              "      <td>3.81</td>\n",
              "      <td>46</td>\n",
              "      <td>0</td>\n",
              "    </tr>\n",
              "    <tr>\n",
              "      <th>3</th>\n",
              "      <td>170</td>\n",
              "      <td>7.50</td>\n",
              "      <td>6.41</td>\n",
              "      <td>38.03</td>\n",
              "      <td>Present</td>\n",
              "      <td>51</td>\n",
              "      <td>31.99</td>\n",
              "      <td>24.26</td>\n",
              "      <td>58</td>\n",
              "      <td>1</td>\n",
              "    </tr>\n",
              "    <tr>\n",
              "      <th>4</th>\n",
              "      <td>134</td>\n",
              "      <td>13.60</td>\n",
              "      <td>3.50</td>\n",
              "      <td>27.78</td>\n",
              "      <td>Present</td>\n",
              "      <td>60</td>\n",
              "      <td>25.99</td>\n",
              "      <td>57.34</td>\n",
              "      <td>49</td>\n",
              "      <td>1</td>\n",
              "    </tr>\n",
              "  </tbody>\n",
              "</table>\n",
              "</div>\n",
              "      <button class=\"colab-df-convert\" onclick=\"convertToInteractive('df-fd844b98-9840-4577-8b41-385c602fac08')\"\n",
              "              title=\"Convert this dataframe to an interactive table.\"\n",
              "              style=\"display:none;\">\n",
              "        \n",
              "  <svg xmlns=\"http://www.w3.org/2000/svg\" height=\"24px\"viewBox=\"0 0 24 24\"\n",
              "       width=\"24px\">\n",
              "    <path d=\"M0 0h24v24H0V0z\" fill=\"none\"/>\n",
              "    <path d=\"M18.56 5.44l.94 2.06.94-2.06 2.06-.94-2.06-.94-.94-2.06-.94 2.06-2.06.94zm-11 1L8.5 8.5l.94-2.06 2.06-.94-2.06-.94L8.5 2.5l-.94 2.06-2.06.94zm10 10l.94 2.06.94-2.06 2.06-.94-2.06-.94-.94-2.06-.94 2.06-2.06.94z\"/><path d=\"M17.41 7.96l-1.37-1.37c-.4-.4-.92-.59-1.43-.59-.52 0-1.04.2-1.43.59L10.3 9.45l-7.72 7.72c-.78.78-.78 2.05 0 2.83L4 21.41c.39.39.9.59 1.41.59.51 0 1.02-.2 1.41-.59l7.78-7.78 2.81-2.81c.8-.78.8-2.07 0-2.86zM5.41 20L4 18.59l7.72-7.72 1.47 1.35L5.41 20z\"/>\n",
              "  </svg>\n",
              "      </button>\n",
              "      \n",
              "  <style>\n",
              "    .colab-df-container {\n",
              "      display:flex;\n",
              "      flex-wrap:wrap;\n",
              "      gap: 12px;\n",
              "    }\n",
              "\n",
              "    .colab-df-convert {\n",
              "      background-color: #E8F0FE;\n",
              "      border: none;\n",
              "      border-radius: 50%;\n",
              "      cursor: pointer;\n",
              "      display: none;\n",
              "      fill: #1967D2;\n",
              "      height: 32px;\n",
              "      padding: 0 0 0 0;\n",
              "      width: 32px;\n",
              "    }\n",
              "\n",
              "    .colab-df-convert:hover {\n",
              "      background-color: #E2EBFA;\n",
              "      box-shadow: 0px 1px 2px rgba(60, 64, 67, 0.3), 0px 1px 3px 1px rgba(60, 64, 67, 0.15);\n",
              "      fill: #174EA6;\n",
              "    }\n",
              "\n",
              "    [theme=dark] .colab-df-convert {\n",
              "      background-color: #3B4455;\n",
              "      fill: #D2E3FC;\n",
              "    }\n",
              "\n",
              "    [theme=dark] .colab-df-convert:hover {\n",
              "      background-color: #434B5C;\n",
              "      box-shadow: 0px 1px 3px 1px rgba(0, 0, 0, 0.15);\n",
              "      filter: drop-shadow(0px 1px 2px rgba(0, 0, 0, 0.3));\n",
              "      fill: #FFFFFF;\n",
              "    }\n",
              "  </style>\n",
              "\n",
              "      <script>\n",
              "        const buttonEl =\n",
              "          document.querySelector('#df-fd844b98-9840-4577-8b41-385c602fac08 button.colab-df-convert');\n",
              "        buttonEl.style.display =\n",
              "          google.colab.kernel.accessAllowed ? 'block' : 'none';\n",
              "\n",
              "        async function convertToInteractive(key) {\n",
              "          const element = document.querySelector('#df-fd844b98-9840-4577-8b41-385c602fac08');\n",
              "          const dataTable =\n",
              "            await google.colab.kernel.invokeFunction('convertToInteractive',\n",
              "                                                     [key], {});\n",
              "          if (!dataTable) return;\n",
              "\n",
              "          const docLinkHtml = 'Like what you see? Visit the ' +\n",
              "            '<a target=\"_blank\" href=https://colab.research.google.com/notebooks/data_table.ipynb>data table notebook</a>'\n",
              "            + ' to learn more about interactive tables.';\n",
              "          element.innerHTML = '';\n",
              "          dataTable['output_type'] = 'display_data';\n",
              "          await google.colab.output.renderOutput(dataTable, element);\n",
              "          const docLink = document.createElement('div');\n",
              "          docLink.innerHTML = docLinkHtml;\n",
              "          element.appendChild(docLink);\n",
              "        }\n",
              "      </script>\n",
              "    </div>\n",
              "  </div>\n",
              "  "
            ]
          },
          "metadata": {},
          "execution_count": 6
        }
      ]
    },
    {
      "cell_type": "code",
      "source": [
        "X = data['tobacco']\n",
        "y = data['chd']"
      ],
      "metadata": {
        "id": "cxPQR4nEApNQ"
      },
      "execution_count": 7,
      "outputs": []
    },
    {
      "cell_type": "code",
      "source": [
        "# in cubic B-spline df = k - 2 + 1\n",
        "# where k-2 is the number of internal knots and +1 is added to account for the intercept term.\n",
        "bs_o = bs(X, df=4, include_intercept=True)\n",
        "model_bs = LogisticRegression()\n",
        "model_bs.fit(bs_o, y)\n",
        "\n",
        "# making a new set of data form X.min() to X.max()\n",
        "x_n = np.linspace(X.min(), X.max(), len(X))\n",
        "bs_n = bs(x_n, df=4, include_intercept=True)\n",
        "\n",
        "# using coefficents instead of using \"predict(..., se.fit = TRUE)\n",
        "log_odds_bs = model_bs.intercept_ + np.dot(bs_n, model_bs.coef_.T) \n",
        "\n",
        "# using logistic function which maps the log-odds to a probability between 0 and 1.\n",
        "probability = 1 / (1 + np.exp(-log_odds_bs))\n",
        "\n",
        "# predicted probabilities are converted into binary predictions by thresholding at 0.5\n",
        "threshold = 0.5\n",
        "binary_preds_bs = []\n",
        "for p in probability:\n",
        "    if p > threshold:\n",
        "        binary_preds_bs.append(1)\n",
        "    else:\n",
        "        binary_preds_bs.append(0)\n",
        "binary_preds_bs = np.array(binary_preds_bs)\n",
        "\n",
        "\n",
        "\n",
        "plt.plot(x_n, log_odds_bs, label='B-spline Log-Odds')\n",
        "plt.plot(x_n, binary_preds_bs, label='Binary Predicted')\n",
        "plt.scatter(X, y, c='black', label='Real Data')\n",
        "plt.legend()\n",
        "plt.show()\n",
        "\n",
        "print(\"The variance for B-spline = \",  np.var(y - binary_preds_bs))\n"
      ],
      "metadata": {
        "colab": {
          "base_uri": "https://localhost:8080/",
          "height": 283
        },
        "id": "-nV660BoAutA",
        "outputId": "aa6512b7-bc89-47e2-e1e4-3fd375c357c2"
      },
      "execution_count": 8,
      "outputs": [
        {
          "output_type": "display_data",
          "data": {
            "text/plain": [
              "<Figure size 432x288 with 1 Axes>"
            ],
            "image/png": "[encoded data removed]"
          },
          "metadata": {
            "needs_background": "light"
          }
        },
        {
          "output_type": "stream",
          "name": "stdout",
          "text": [
            "The variance for B-spline =  0.41309195854650393\n"
          ]
        }
      ]
    },
    {
      "cell_type": "code",
      "source": [
        "# df = k + 3 - 1 - 2 = 5\n",
        "# where k is the number of knots, 3 is the degree of the cubic spline basis\n",
        "# functions, 1 is the number of additional basis functions for the intercept,\n",
        "# and 2 is the number of boundary constraints for natural cubic splines.\n",
        "\n",
        "ns_o = cr(X, df=5)\n",
        "model_ns = LogisticRegression()\n",
        "model_ns.fit(ns_o, y)\n",
        "\n",
        "# making a new set of data form X.min() to X.max()\n",
        "ns_n = cr(x_n, df=5)\n",
        "\n",
        "# using coefficents instead of using \"predict(..., se.fit = TRUE)\n",
        "log_odds_ns = model_ns.intercept_ + np.dot(ns_n, model_ns.coef_.T)\n",
        "\n",
        "# using logistic function which maps the log-odds to a probability between 0 and 1.\n",
        "probability = 1 / (1 + np.exp(-log_odds_ns))\n",
        "\n",
        "# predicted probabilities are converted into binary predictions by thresholding at 0.5\n",
        "threshold = 0.5\n",
        "binary_preds_ns = []\n",
        "for p in probability:\n",
        "    if p > threshold:\n",
        "        binary_preds_ns.append(1)\n",
        "    else:\n",
        "        binary_preds_ns.append(0)\n",
        "binary_preds_ns = np.array(binary_preds_ns)\n",
        "\n",
        "\n",
        "plt.plot(x_n, log_odds_ns, label='Natural B-spline Log-Odds')\n",
        "plt.plot(x_n, binary_preds_ns, label='Binary Predicted')\n",
        "plt.scatter(X, y, c='black', label='Real Data')\n",
        "plt.legend() \n",
        "plt.show()\n",
        "\n",
        "print(\"The variance for B-spline = \",  np.var(y - binary_preds_ns))"
      ],
      "metadata": {
        "colab": {
          "base_uri": "https://localhost:8080/",
          "height": 283
        },
        "id": "mRQr4J-YBZuV",
        "outputId": "f3118730-fbbe-4521-f968-cb02cb4b34cd"
      },
      "execution_count": 9,
      "outputs": [
        {
          "output_type": "display_data",
          "data": {
            "text/plain": [
              "<Figure size 432x288 with 1 Axes>"
            ],
            "image/png": "[encoded data removed]"
          },
          "metadata": {
            "needs_background": "light"
          }
        },
        {
          "output_type": "stream",
          "name": "stdout",
          "text": [
            "The variance for B-spline =  0.35815014711118615\n"
          ]
        }
      ]
    },
    {
      "cell_type": "code",
      "source": [
        "# Define the knots and order numbder of knots =5\n",
        "knots = np.quantile(X, np.linspace(0, 1, 5))\n",
        "# p is order of the polynomial used for each spline segment.\n",
        "# Here, p=3 means that cubic polynomials are used.\n",
        "p = 3\n",
        "\n",
        "# Generate the truncated polynomial spline basis matrix\n",
        "tr_o = dmatrix(\"bs(x, knots=knots, degree=p-1, include_intercept=True)\", {\"x\": X})\n",
        "\n",
        "# Fit the logistic regression model\n",
        "model = LogisticRegression()\n",
        "model.fit(tr_o, y)\n",
        "\n",
        "# Generate the truncated polynomial spline basis matrix for new data\n",
        "tr_n = build_design_matrices([tr_o.design_info], {\"x\": x_n})[0]\n",
        "\n",
        "# Compute the predicted probabilities\n",
        "log_odds_tr = model.intercept_ + np.dot(tr_n, model.coef_.T)\n",
        "\n",
        "#  Clipping the log_odds values between -500 and 500 is a common approach\n",
        "# to prevent overflow or underflow in the exponentiation process and improve the\n",
        "# numerical stability of the computation\n",
        "log_odds_clipped_tr = np.clip(log_odds_tr, -500, 500)\n",
        "probability = 1 / (1 + np.exp(-log_odds_clipped_tr))\n",
        "\n",
        "\n",
        "# predicted probabilities are converted into binary predictions by thresholding at 0.5\n",
        "threshold = 0.5\n",
        "binary_preds_tr = []\n",
        "for p in probability:\n",
        "    if p > threshold:\n",
        "        binary_preds_tr.append(1)\n",
        "    else:\n",
        "        binary_preds_tr.append(0)\n",
        "binary_preds_tr = np.array(binary_preds_tr)\n",
        "\n",
        "\n",
        "# Plot the results\n",
        "plt.plot(x_n, log_odds_tr, label='Truncated Polynomial B-spline Log-Odds')\n",
        "plt.plot(x_n, binary_preds_tr, label='Binary Predicted')\n",
        "plt.scatter(X, y, c='black', label='Data')\n",
        "plt.ylim([-1, 2])\n",
        "plt.legend() \n",
        "plt.show()\n",
        "\n",
        "print(\"The variance for Truncated Polynomial B-spline = \",  np.var(y - binary_preds_tr))"
      ],
      "metadata": {
        "colab": {
          "base_uri": "https://localhost:8080/",
          "height": 287
        },
        "id": "ro1Xa_QQUb7r",
        "outputId": "7c7c65a2-aadb-45fb-c6a4-c338ac6ef875"
      },
      "execution_count": 10,
      "outputs": [
        {
          "output_type": "display_data",
          "data": {
            "text/plain": [
              "<Figure size 432x288 with 1 Axes>"
            ],
            "image/png": "[encoded data removed]"
          },
          "metadata": {
            "needs_background": "light"
          }
        },
        {
          "output_type": "stream",
          "name": "stdout",
          "text": [
            "The variance for Truncated Polynomial B-spline =  0.4468994209253949\n"
          ]
        }
      ]
    }
  ]
}